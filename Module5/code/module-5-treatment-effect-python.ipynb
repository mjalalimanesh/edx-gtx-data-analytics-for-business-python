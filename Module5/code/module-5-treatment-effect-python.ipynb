{
 "metadata": {
  "language_info": {
   "codemirror_mode": {
    "name": "ipython",
    "version": 3
   },
   "file_extension": ".py",
   "mimetype": "text/x-python",
   "name": "python",
   "nbconvert_exporter": "python",
   "pygments_lexer": "ipython3",
   "version": "3.7.6-final"
  },
  "orig_nbformat": 2,
  "kernelspec": {
   "name": "Python 3.7.6 64-bit ('base': conda)",
   "display_name": "Python 3.7.6 64-bit ('base': conda)",
   "metadata": {
    "interpreter": {
     "hash": "588af05d5d3dd818fa2f26c2fef636d13dbef7129aa918ef3cd91c97366c2fb9"
    }
   }
  }
 },
 "nbformat": 4,
 "nbformat_minor": 2,
 "cells": [
  {
   "source": [
    "### Import Libraries"
   ],
   "cell_type": "markdown",
   "metadata": {}
  },
  {
   "cell_type": "code",
   "execution_count": 35,
   "metadata": {},
   "outputs": [],
   "source": [
    "\n",
    "\n",
    "import numpy as np\n",
    "import pandas as pd\n",
    "\n",
    "import seaborn as sns\n",
    "import matplotlib.pyplot as plt\n",
    "\n",
    "import statsmodels.api as sm\n",
    "import statsmodels.formula.api as smf\n",
    "\n",
    "plt.style.use('seaborn') # pretty matplotlib plots\n",
    "\n"
   ]
  },
  {
   "source": [
    "### Read Dataset"
   ],
   "cell_type": "markdown",
   "metadata": {}
  },
  {
   "cell_type": "code",
   "execution_count": 36,
   "metadata": {},
   "outputs": [
    {
     "output_type": "execute_result",
     "data": {
      "text/plain": "    tmathssk  treadssk             classk  totexpk   sex freelunk   race  \\\n2        473       447        small.class        7  girl       no  white   \n3        536       450        small.class       21  girl       no  black   \n5        463       439  regular.with.aide        0   boy      yes  black   \n11       559       448            regular       16   boy       no  white   \n12       489       447        small.class        5   boy      yes  white   \n\n    schidkn  \n2        63  \n3        20  \n5        19  \n11       69  \n12       79  ",
      "text/html": "<div>\n<style scoped>\n    .dataframe tbody tr th:only-of-type {\n        vertical-align: middle;\n    }\n\n    .dataframe tbody tr th {\n        vertical-align: top;\n    }\n\n    .dataframe thead th {\n        text-align: right;\n    }\n</style>\n<table border=\"1\" class=\"dataframe\">\n  <thead>\n    <tr style=\"text-align: right;\">\n      <th></th>\n      <th>tmathssk</th>\n      <th>treadssk</th>\n      <th>classk</th>\n      <th>totexpk</th>\n      <th>sex</th>\n      <th>freelunk</th>\n      <th>race</th>\n      <th>schidkn</th>\n    </tr>\n  </thead>\n  <tbody>\n    <tr>\n      <th>2</th>\n      <td>473</td>\n      <td>447</td>\n      <td>small.class</td>\n      <td>7</td>\n      <td>girl</td>\n      <td>no</td>\n      <td>white</td>\n      <td>63</td>\n    </tr>\n    <tr>\n      <th>3</th>\n      <td>536</td>\n      <td>450</td>\n      <td>small.class</td>\n      <td>21</td>\n      <td>girl</td>\n      <td>no</td>\n      <td>black</td>\n      <td>20</td>\n    </tr>\n    <tr>\n      <th>5</th>\n      <td>463</td>\n      <td>439</td>\n      <td>regular.with.aide</td>\n      <td>0</td>\n      <td>boy</td>\n      <td>yes</td>\n      <td>black</td>\n      <td>19</td>\n    </tr>\n    <tr>\n      <th>11</th>\n      <td>559</td>\n      <td>448</td>\n      <td>regular</td>\n      <td>16</td>\n      <td>boy</td>\n      <td>no</td>\n      <td>white</td>\n      <td>69</td>\n    </tr>\n    <tr>\n      <th>12</th>\n      <td>489</td>\n      <td>447</td>\n      <td>small.class</td>\n      <td>5</td>\n      <td>boy</td>\n      <td>yes</td>\n      <td>white</td>\n      <td>79</td>\n    </tr>\n  </tbody>\n</table>\n</div>"
     },
     "metadata": {},
     "execution_count": 36
    }
   ],
   "source": [
    "star = pd.read_csv(\"Star.csv\", index_col=0)\n",
    "star.head()\n"
   ]
  },
  {
   "cell_type": "code",
   "execution_count": 37,
   "metadata": {},
   "outputs": [
    {
     "output_type": "execute_result",
     "data": {
      "text/plain": "tmathssk    False\ntreadssk    False\nclassk      False\ntotexpk     False\nsex         False\nfreelunk    False\nrace        False\nschidkn     False\ndtype: bool"
     },
     "metadata": {},
     "execution_count": 37
    }
   ],
   "source": [
    "star.isna().any()"
   ]
  },
  {
   "source": [
    "#### only analyze small and regular size data"
   ],
   "cell_type": "markdown",
   "metadata": {}
  },
  {
   "cell_type": "code",
   "execution_count": 38,
   "metadata": {},
   "outputs": [
    {
     "output_type": "execute_result",
     "data": {
      "text/plain": "    tmathssk  treadssk       classk  totexpk   sex freelunk   race  schidkn\n2        473       447  small.class        7  girl       no  white       63\n3        536       450  small.class       21  girl       no  black       20\n11       559       448      regular       16   boy       no  white       69\n12       489       447  small.class        5   boy      yes  white       79\n13       454       431      regular        8   boy      yes  white        5",
      "text/html": "<div>\n<style scoped>\n    .dataframe tbody tr th:only-of-type {\n        vertical-align: middle;\n    }\n\n    .dataframe tbody tr th {\n        vertical-align: top;\n    }\n\n    .dataframe thead th {\n        text-align: right;\n    }\n</style>\n<table border=\"1\" class=\"dataframe\">\n  <thead>\n    <tr style=\"text-align: right;\">\n      <th></th>\n      <th>tmathssk</th>\n      <th>treadssk</th>\n      <th>classk</th>\n      <th>totexpk</th>\n      <th>sex</th>\n      <th>freelunk</th>\n      <th>race</th>\n      <th>schidkn</th>\n    </tr>\n  </thead>\n  <tbody>\n    <tr>\n      <th>2</th>\n      <td>473</td>\n      <td>447</td>\n      <td>small.class</td>\n      <td>7</td>\n      <td>girl</td>\n      <td>no</td>\n      <td>white</td>\n      <td>63</td>\n    </tr>\n    <tr>\n      <th>3</th>\n      <td>536</td>\n      <td>450</td>\n      <td>small.class</td>\n      <td>21</td>\n      <td>girl</td>\n      <td>no</td>\n      <td>black</td>\n      <td>20</td>\n    </tr>\n    <tr>\n      <th>11</th>\n      <td>559</td>\n      <td>448</td>\n      <td>regular</td>\n      <td>16</td>\n      <td>boy</td>\n      <td>no</td>\n      <td>white</td>\n      <td>69</td>\n    </tr>\n    <tr>\n      <th>12</th>\n      <td>489</td>\n      <td>447</td>\n      <td>small.class</td>\n      <td>5</td>\n      <td>boy</td>\n      <td>yes</td>\n      <td>white</td>\n      <td>79</td>\n    </tr>\n    <tr>\n      <th>13</th>\n      <td>454</td>\n      <td>431</td>\n      <td>regular</td>\n      <td>8</td>\n      <td>boy</td>\n      <td>yes</td>\n      <td>white</td>\n      <td>5</td>\n    </tr>\n  </tbody>\n</table>\n</div>"
     },
     "metadata": {},
     "execution_count": 38
    }
   ],
   "source": [
    "filter = star['classk'] != 'regular.with.aide' \n",
    "star = star[filter]\n",
    "star.head()"
   ]
  },
  {
   "source": [
    "#### add total score"
   ],
   "cell_type": "markdown",
   "metadata": {}
  },
  {
   "cell_type": "code",
   "execution_count": 39,
   "metadata": {},
   "outputs": [],
   "source": [
    "star['total_score'] = star['tmathssk'] + star['treadssk']"
   ]
  },
  {
   "source": [
    "#### create indicator variables"
   ],
   "cell_type": "markdown",
   "metadata": {}
  },
  {
   "cell_type": "code",
   "execution_count": 40,
   "metadata": {},
   "outputs": [
    {
     "output_type": "execute_result",
     "data": {
      "text/plain": "    tmathssk  treadssk  totexpk  schidkn  total_score  small  sex-girl  \\\n2        473       447        7       63          920      1         1   \n3        536       450       21       20          986      1         1   \n11       559       448       16       69         1007      0         0   \n12       489       447        5       79          936      1         0   \n13       454       431        8        5          885      0         0   \n\n    freelunk-yes  race-other  race-white  \n2              0           0           1  \n3              0           0           0  \n11             0           0           1  \n12             1           0           1  \n13             1           0           1  ",
      "text/html": "<div>\n<style scoped>\n    .dataframe tbody tr th:only-of-type {\n        vertical-align: middle;\n    }\n\n    .dataframe tbody tr th {\n        vertical-align: top;\n    }\n\n    .dataframe thead th {\n        text-align: right;\n    }\n</style>\n<table border=\"1\" class=\"dataframe\">\n  <thead>\n    <tr style=\"text-align: right;\">\n      <th></th>\n      <th>tmathssk</th>\n      <th>treadssk</th>\n      <th>totexpk</th>\n      <th>schidkn</th>\n      <th>total_score</th>\n      <th>small</th>\n      <th>sex-girl</th>\n      <th>freelunk-yes</th>\n      <th>race-other</th>\n      <th>race-white</th>\n    </tr>\n  </thead>\n  <tbody>\n    <tr>\n      <th>2</th>\n      <td>473</td>\n      <td>447</td>\n      <td>7</td>\n      <td>63</td>\n      <td>920</td>\n      <td>1</td>\n      <td>1</td>\n      <td>0</td>\n      <td>0</td>\n      <td>1</td>\n    </tr>\n    <tr>\n      <th>3</th>\n      <td>536</td>\n      <td>450</td>\n      <td>21</td>\n      <td>20</td>\n      <td>986</td>\n      <td>1</td>\n      <td>1</td>\n      <td>0</td>\n      <td>0</td>\n      <td>0</td>\n    </tr>\n    <tr>\n      <th>11</th>\n      <td>559</td>\n      <td>448</td>\n      <td>16</td>\n      <td>69</td>\n      <td>1007</td>\n      <td>0</td>\n      <td>0</td>\n      <td>0</td>\n      <td>0</td>\n      <td>1</td>\n    </tr>\n    <tr>\n      <th>12</th>\n      <td>489</td>\n      <td>447</td>\n      <td>5</td>\n      <td>79</td>\n      <td>936</td>\n      <td>1</td>\n      <td>0</td>\n      <td>1</td>\n      <td>0</td>\n      <td>1</td>\n    </tr>\n    <tr>\n      <th>13</th>\n      <td>454</td>\n      <td>431</td>\n      <td>8</td>\n      <td>5</td>\n      <td>885</td>\n      <td>0</td>\n      <td>0</td>\n      <td>1</td>\n      <td>0</td>\n      <td>1</td>\n    </tr>\n  </tbody>\n</table>\n</div>"
     },
     "metadata": {},
     "execution_count": 40
    }
   ],
   "source": [
    "star = pd.get_dummies(data=star, prefix_sep='-', drop_first=True)\n",
    "star.rename(columns={'classk-small.class':'small'}, inplace=True)\n",
    "star.head()\n"
   ]
  },
  {
   "source": [
    "#### get summary stats for small= 0 and small = 1"
   ],
   "cell_type": "markdown",
   "metadata": {}
  },
  {
   "cell_type": "code",
   "execution_count": 41,
   "metadata": {},
   "outputs": [
    {
     "output_type": "execute_result",
     "data": {
      "text/plain": "      total_score                                                           \n            count        mean        std    min    25%    50%    75%     max\nsmall                                                                       \n0          2000.0  917.942000  73.153389  635.0  866.0  912.0  961.0  1229.0\n1          1733.0  932.050779  76.428360  747.0  878.0  924.0  981.0  1253.0",
      "text/html": "<div>\n<style scoped>\n    .dataframe tbody tr th:only-of-type {\n        vertical-align: middle;\n    }\n\n    .dataframe tbody tr th {\n        vertical-align: top;\n    }\n\n    .dataframe thead tr th {\n        text-align: left;\n    }\n\n    .dataframe thead tr:last-of-type th {\n        text-align: right;\n    }\n</style>\n<table border=\"1\" class=\"dataframe\">\n  <thead>\n    <tr>\n      <th></th>\n      <th colspan=\"8\" halign=\"left\">total_score</th>\n    </tr>\n    <tr>\n      <th></th>\n      <th>count</th>\n      <th>mean</th>\n      <th>std</th>\n      <th>min</th>\n      <th>25%</th>\n      <th>50%</th>\n      <th>75%</th>\n      <th>max</th>\n    </tr>\n    <tr>\n      <th>small</th>\n      <th></th>\n      <th></th>\n      <th></th>\n      <th></th>\n      <th></th>\n      <th></th>\n      <th></th>\n      <th></th>\n    </tr>\n  </thead>\n  <tbody>\n    <tr>\n      <th>0</th>\n      <td>2000.0</td>\n      <td>917.942000</td>\n      <td>73.153389</td>\n      <td>635.0</td>\n      <td>866.0</td>\n      <td>912.0</td>\n      <td>961.0</td>\n      <td>1229.0</td>\n    </tr>\n    <tr>\n      <th>1</th>\n      <td>1733.0</td>\n      <td>932.050779</td>\n      <td>76.428360</td>\n      <td>747.0</td>\n      <td>878.0</td>\n      <td>924.0</td>\n      <td>981.0</td>\n      <td>1253.0</td>\n    </tr>\n  </tbody>\n</table>\n</div>"
     },
     "metadata": {},
     "execution_count": 41
    }
   ],
   "source": [
    "star[['total_score', 'small']].groupby(\"small\").describe()"
   ]
  },
  {
   "source": [
    "#### summary stats across all data"
   ],
   "cell_type": "markdown",
   "metadata": {}
  },
  {
   "cell_type": "code",
   "execution_count": 42,
   "metadata": {},
   "outputs": [
    {
     "output_type": "execute_result",
     "data": {
      "text/plain": "          tmathssk     treadssk      totexpk      schidkn  total_score  \\\ncount  3733.000000  3733.000000  3733.000000  3733.000000  3733.000000   \nmean    487.072060   437.419770     9.037503    40.263059   924.491830   \nstd      48.590568    31.836505     5.726875    22.949801    75.012373   \nmin     320.000000   315.000000     0.000000     1.000000   635.000000   \n25%     454.000000   414.000000     4.000000    21.000000   871.000000   \n50%     484.000000   434.000000     8.000000    40.000000   918.000000   \n75%     520.000000   455.000000    13.000000    60.000000   969.000000   \nmax     626.000000   627.000000    27.000000    80.000000  1253.000000   \n\n             small     sex-girl  freelunk-yes   race-other   race-white  \ncount  3733.000000  3733.000000   3733.000000  3733.000000  3733.000000  \nmean      0.464238     0.485936      0.473882     0.005358     0.679614  \nstd       0.498786     0.499869      0.499384     0.073009     0.466687  \nmin       0.000000     0.000000      0.000000     0.000000     0.000000  \n25%       0.000000     0.000000      0.000000     0.000000     0.000000  \n50%       0.000000     0.000000      0.000000     0.000000     1.000000  \n75%       1.000000     1.000000      1.000000     0.000000     1.000000  \nmax       1.000000     1.000000      1.000000     1.000000     1.000000  ",
      "text/html": "<div>\n<style scoped>\n    .dataframe tbody tr th:only-of-type {\n        vertical-align: middle;\n    }\n\n    .dataframe tbody tr th {\n        vertical-align: top;\n    }\n\n    .dataframe thead th {\n        text-align: right;\n    }\n</style>\n<table border=\"1\" class=\"dataframe\">\n  <thead>\n    <tr style=\"text-align: right;\">\n      <th></th>\n      <th>tmathssk</th>\n      <th>treadssk</th>\n      <th>totexpk</th>\n      <th>schidkn</th>\n      <th>total_score</th>\n      <th>small</th>\n      <th>sex-girl</th>\n      <th>freelunk-yes</th>\n      <th>race-other</th>\n      <th>race-white</th>\n    </tr>\n  </thead>\n  <tbody>\n    <tr>\n      <th>count</th>\n      <td>3733.000000</td>\n      <td>3733.000000</td>\n      <td>3733.000000</td>\n      <td>3733.000000</td>\n      <td>3733.000000</td>\n      <td>3733.000000</td>\n      <td>3733.000000</td>\n      <td>3733.000000</td>\n      <td>3733.000000</td>\n      <td>3733.000000</td>\n    </tr>\n    <tr>\n      <th>mean</th>\n      <td>487.072060</td>\n      <td>437.419770</td>\n      <td>9.037503</td>\n      <td>40.263059</td>\n      <td>924.491830</td>\n      <td>0.464238</td>\n      <td>0.485936</td>\n      <td>0.473882</td>\n      <td>0.005358</td>\n      <td>0.679614</td>\n    </tr>\n    <tr>\n      <th>std</th>\n      <td>48.590568</td>\n      <td>31.836505</td>\n      <td>5.726875</td>\n      <td>22.949801</td>\n      <td>75.012373</td>\n      <td>0.498786</td>\n      <td>0.499869</td>\n      <td>0.499384</td>\n      <td>0.073009</td>\n      <td>0.466687</td>\n    </tr>\n    <tr>\n      <th>min</th>\n      <td>320.000000</td>\n      <td>315.000000</td>\n      <td>0.000000</td>\n      <td>1.000000</td>\n      <td>635.000000</td>\n      <td>0.000000</td>\n      <td>0.000000</td>\n      <td>0.000000</td>\n      <td>0.000000</td>\n      <td>0.000000</td>\n    </tr>\n    <tr>\n      <th>25%</th>\n      <td>454.000000</td>\n      <td>414.000000</td>\n      <td>4.000000</td>\n      <td>21.000000</td>\n      <td>871.000000</td>\n      <td>0.000000</td>\n      <td>0.000000</td>\n      <td>0.000000</td>\n      <td>0.000000</td>\n      <td>0.000000</td>\n    </tr>\n    <tr>\n      <th>50%</th>\n      <td>484.000000</td>\n      <td>434.000000</td>\n      <td>8.000000</td>\n      <td>40.000000</td>\n      <td>918.000000</td>\n      <td>0.000000</td>\n      <td>0.000000</td>\n      <td>0.000000</td>\n      <td>0.000000</td>\n      <td>1.000000</td>\n    </tr>\n    <tr>\n      <th>75%</th>\n      <td>520.000000</td>\n      <td>455.000000</td>\n      <td>13.000000</td>\n      <td>60.000000</td>\n      <td>969.000000</td>\n      <td>1.000000</td>\n      <td>1.000000</td>\n      <td>1.000000</td>\n      <td>0.000000</td>\n      <td>1.000000</td>\n    </tr>\n    <tr>\n      <th>max</th>\n      <td>626.000000</td>\n      <td>627.000000</td>\n      <td>27.000000</td>\n      <td>80.000000</td>\n      <td>1253.000000</td>\n      <td>1.000000</td>\n      <td>1.000000</td>\n      <td>1.000000</td>\n      <td>1.000000</td>\n      <td>1.000000</td>\n    </tr>\n  </tbody>\n</table>\n</div>"
     },
     "metadata": {},
     "execution_count": 42
    }
   ],
   "source": [
    "star.describe()"
   ]
  },
  {
   "source": [
    "#### run a linear regression to understand for the case of small= 0"
   ],
   "cell_type": "markdown",
   "metadata": {}
  },
  {
   "cell_type": "code",
   "execution_count": null,
   "metadata": {},
   "outputs": [],
   "source": []
  }
 ]
}