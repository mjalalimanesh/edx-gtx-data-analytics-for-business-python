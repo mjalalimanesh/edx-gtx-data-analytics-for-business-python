{
 "metadata": {
  "language_info": {
   "codemirror_mode": {
    "name": "ipython",
    "version": 3
   },
   "file_extension": ".py",
   "mimetype": "text/x-python",
   "name": "python",
   "nbconvert_exporter": "python",
   "pygments_lexer": "ipython3",
   "version": "3.7.6-final"
  },
  "orig_nbformat": 2,
  "kernelspec": {
   "name": "Python 3.7.6 64-bit ('base': conda)",
   "display_name": "Python 3.7.6 64-bit ('base': conda)",
   "metadata": {
    "interpreter": {
     "hash": "588af05d5d3dd818fa2f26c2fef636d13dbef7129aa918ef3cd91c97366c2fb9"
    }
   }
  }
 },
 "nbformat": 4,
 "nbformat_minor": 2,
 "cells": [
  {
   "source": [
    "### Import Libraries"
   ],
   "cell_type": "markdown",
   "metadata": {}
  },
  {
   "cell_type": "code",
   "execution_count": 1,
   "metadata": {},
   "outputs": [],
   "source": [
    "\n",
    "\n",
    "import numpy as np\n",
    "import pandas as pd\n",
    "\n",
    "import seaborn as sns\n",
    "import matplotlib.pyplot as plt\n",
    "\n",
    "import statsmodels.api as sm\n",
    "import statsmodels.formula.api as smf\n",
    "\n",
    "plt.style.use('seaborn') # pretty matplotlib plots\n",
    "\n"
   ]
  },
  {
   "source": [
    "### Read Dataset"
   ],
   "cell_type": "markdown",
   "metadata": {}
  },
  {
   "cell_type": "code",
   "execution_count": 16,
   "metadata": {},
   "outputs": [
    {
     "output_type": "execute_result",
     "data": {
      "text/plain": [
       "array(['black', 'other', 'white'], dtype=object)"
      ]
     },
     "metadata": {},
     "execution_count": 16
    }
   ],
   "source": [
    "star = pd.read_csv(\"Star.csv\", index_col=0)\n",
    "star.head()\n",
    "np.unique(star['race'])"
   ]
  },
  {
   "cell_type": "code",
   "execution_count": 3,
   "metadata": {},
   "outputs": [
    {
     "output_type": "execute_result",
     "data": {
      "text/plain": [
       "tmathssk    False\n",
       "treadssk    False\n",
       "classk      False\n",
       "totexpk     False\n",
       "sex         False\n",
       "freelunk    False\n",
       "race        False\n",
       "schidkn     False\n",
       "dtype: bool"
      ]
     },
     "metadata": {},
     "execution_count": 3
    }
   ],
   "source": [
    "star.isna().any()"
   ]
  },
  {
   "source": [
    "#### only analyze small and regular size data"
   ],
   "cell_type": "markdown",
   "metadata": {}
  },
  {
   "cell_type": "code",
   "execution_count": 4,
   "metadata": {},
   "outputs": [
    {
     "output_type": "execute_result",
     "data": {
      "text/plain": [
       "    tmathssk  treadssk       classk  totexpk   sex freelunk   race  schidkn\n",
       "2        473       447  small.class        7  girl       no  white       63\n",
       "3        536       450  small.class       21  girl       no  black       20\n",
       "11       559       448      regular       16   boy       no  white       69\n",
       "12       489       447  small.class        5   boy      yes  white       79\n",
       "13       454       431      regular        8   boy      yes  white        5"
      ],
      "text/html": "<div>\n<style scoped>\n    .dataframe tbody tr th:only-of-type {\n        vertical-align: middle;\n    }\n\n    .dataframe tbody tr th {\n        vertical-align: top;\n    }\n\n    .dataframe thead th {\n        text-align: right;\n    }\n</style>\n<table border=\"1\" class=\"dataframe\">\n  <thead>\n    <tr style=\"text-align: right;\">\n      <th></th>\n      <th>tmathssk</th>\n      <th>treadssk</th>\n      <th>classk</th>\n      <th>totexpk</th>\n      <th>sex</th>\n      <th>freelunk</th>\n      <th>race</th>\n      <th>schidkn</th>\n    </tr>\n  </thead>\n  <tbody>\n    <tr>\n      <th>2</th>\n      <td>473</td>\n      <td>447</td>\n      <td>small.class</td>\n      <td>7</td>\n      <td>girl</td>\n      <td>no</td>\n      <td>white</td>\n      <td>63</td>\n    </tr>\n    <tr>\n      <th>3</th>\n      <td>536</td>\n      <td>450</td>\n      <td>small.class</td>\n      <td>21</td>\n      <td>girl</td>\n      <td>no</td>\n      <td>black</td>\n      <td>20</td>\n    </tr>\n    <tr>\n      <th>11</th>\n      <td>559</td>\n      <td>448</td>\n      <td>regular</td>\n      <td>16</td>\n      <td>boy</td>\n      <td>no</td>\n      <td>white</td>\n      <td>69</td>\n    </tr>\n    <tr>\n      <th>12</th>\n      <td>489</td>\n      <td>447</td>\n      <td>small.class</td>\n      <td>5</td>\n      <td>boy</td>\n      <td>yes</td>\n      <td>white</td>\n      <td>79</td>\n    </tr>\n    <tr>\n      <th>13</th>\n      <td>454</td>\n      <td>431</td>\n      <td>regular</td>\n      <td>8</td>\n      <td>boy</td>\n      <td>yes</td>\n      <td>white</td>\n      <td>5</td>\n    </tr>\n  </tbody>\n</table>\n</div>"
     },
     "metadata": {},
     "execution_count": 4
    }
   ],
   "source": [
    "filter = star['classk'] != 'regular.with.aide' \n",
    "star = star[filter]\n",
    "star.head()"
   ]
  },
  {
   "source": [
    "#### add total score"
   ],
   "cell_type": "markdown",
   "metadata": {}
  },
  {
   "cell_type": "code",
   "execution_count": 5,
   "metadata": {},
   "outputs": [],
   "source": [
    "star['total_score'] = star['tmathssk'] + star['treadssk']\n",
    "star.drop(labels=['tmathssk', 'treadssk', 'schidkn'], axis=1, inplace=True)"
   ]
  },
  {
   "source": [
    "#### create indicator variables"
   ],
   "cell_type": "markdown",
   "metadata": {}
  },
  {
   "cell_type": "code",
   "execution_count": 6,
   "metadata": {},
   "outputs": [
    {
     "output_type": "execute_result",
     "data": {
      "text/plain": [
       "    totexpk  total_score  small  sex-girl  freelunk-yes  race-other  \\\n",
       "2         7          920      1         1             0           0   \n",
       "3        21          986      1         1             0           0   \n",
       "11       16         1007      0         0             0           0   \n",
       "12        5          936      1         0             1           0   \n",
       "13        8          885      0         0             1           0   \n",
       "\n",
       "    race-white  \n",
       "2            1  \n",
       "3            0  \n",
       "11           1  \n",
       "12           1  \n",
       "13           1  "
      ],
      "text/html": "<div>\n<style scoped>\n    .dataframe tbody tr th:only-of-type {\n        vertical-align: middle;\n    }\n\n    .dataframe tbody tr th {\n        vertical-align: top;\n    }\n\n    .dataframe thead th {\n        text-align: right;\n    }\n</style>\n<table border=\"1\" class=\"dataframe\">\n  <thead>\n    <tr style=\"text-align: right;\">\n      <th></th>\n      <th>totexpk</th>\n      <th>total_score</th>\n      <th>small</th>\n      <th>sex-girl</th>\n      <th>freelunk-yes</th>\n      <th>race-other</th>\n      <th>race-white</th>\n    </tr>\n  </thead>\n  <tbody>\n    <tr>\n      <th>2</th>\n      <td>7</td>\n      <td>920</td>\n      <td>1</td>\n      <td>1</td>\n      <td>0</td>\n      <td>0</td>\n      <td>1</td>\n    </tr>\n    <tr>\n      <th>3</th>\n      <td>21</td>\n      <td>986</td>\n      <td>1</td>\n      <td>1</td>\n      <td>0</td>\n      <td>0</td>\n      <td>0</td>\n    </tr>\n    <tr>\n      <th>11</th>\n      <td>16</td>\n      <td>1007</td>\n      <td>0</td>\n      <td>0</td>\n      <td>0</td>\n      <td>0</td>\n      <td>1</td>\n    </tr>\n    <tr>\n      <th>12</th>\n      <td>5</td>\n      <td>936</td>\n      <td>1</td>\n      <td>0</td>\n      <td>1</td>\n      <td>0</td>\n      <td>1</td>\n    </tr>\n    <tr>\n      <th>13</th>\n      <td>8</td>\n      <td>885</td>\n      <td>0</td>\n      <td>0</td>\n      <td>1</td>\n      <td>0</td>\n      <td>1</td>\n    </tr>\n  </tbody>\n</table>\n</div>"
     },
     "metadata": {},
     "execution_count": 6
    }
   ],
   "source": [
    "star = pd.get_dummies(data=star, prefix_sep='-', drop_first=True)\n",
    "star.rename(columns={'classk-small.class':'small'}, inplace=True)\n",
    "star.head()\n"
   ]
  },
  {
   "source": [
    "#### get summary stats for small= 0 and small = 1"
   ],
   "cell_type": "markdown",
   "metadata": {}
  },
  {
   "source": [
    "#### summary stats across all data"
   ],
   "cell_type": "markdown",
   "metadata": {}
  },
  {
   "cell_type": "code",
   "execution_count": 7,
   "metadata": {},
   "outputs": [
    {
     "output_type": "execute_result",
     "data": {
      "text/plain": [
       "           totexpk  total_score        small     sex-girl  freelunk-yes  \\\n",
       "count  3733.000000  3733.000000  3733.000000  3733.000000   3733.000000   \n",
       "mean      9.037503   924.491830     0.464238     0.485936      0.473882   \n",
       "std       5.726875    75.012373     0.498786     0.499869      0.499384   \n",
       "min       0.000000   635.000000     0.000000     0.000000      0.000000   \n",
       "25%       4.000000   871.000000     0.000000     0.000000      0.000000   \n",
       "50%       8.000000   918.000000     0.000000     0.000000      0.000000   \n",
       "75%      13.000000   969.000000     1.000000     1.000000      1.000000   \n",
       "max      27.000000  1253.000000     1.000000     1.000000      1.000000   \n",
       "\n",
       "        race-other   race-white  \n",
       "count  3733.000000  3733.000000  \n",
       "mean      0.005358     0.679614  \n",
       "std       0.073009     0.466687  \n",
       "min       0.000000     0.000000  \n",
       "25%       0.000000     0.000000  \n",
       "50%       0.000000     1.000000  \n",
       "75%       0.000000     1.000000  \n",
       "max       1.000000     1.000000  "
      ],
      "text/html": "<div>\n<style scoped>\n    .dataframe tbody tr th:only-of-type {\n        vertical-align: middle;\n    }\n\n    .dataframe tbody tr th {\n        vertical-align: top;\n    }\n\n    .dataframe thead th {\n        text-align: right;\n    }\n</style>\n<table border=\"1\" class=\"dataframe\">\n  <thead>\n    <tr style=\"text-align: right;\">\n      <th></th>\n      <th>totexpk</th>\n      <th>total_score</th>\n      <th>small</th>\n      <th>sex-girl</th>\n      <th>freelunk-yes</th>\n      <th>race-other</th>\n      <th>race-white</th>\n    </tr>\n  </thead>\n  <tbody>\n    <tr>\n      <th>count</th>\n      <td>3733.000000</td>\n      <td>3733.000000</td>\n      <td>3733.000000</td>\n      <td>3733.000000</td>\n      <td>3733.000000</td>\n      <td>3733.000000</td>\n      <td>3733.000000</td>\n    </tr>\n    <tr>\n      <th>mean</th>\n      <td>9.037503</td>\n      <td>924.491830</td>\n      <td>0.464238</td>\n      <td>0.485936</td>\n      <td>0.473882</td>\n      <td>0.005358</td>\n      <td>0.679614</td>\n    </tr>\n    <tr>\n      <th>std</th>\n      <td>5.726875</td>\n      <td>75.012373</td>\n      <td>0.498786</td>\n      <td>0.499869</td>\n      <td>0.499384</td>\n      <td>0.073009</td>\n      <td>0.466687</td>\n    </tr>\n    <tr>\n      <th>min</th>\n      <td>0.000000</td>\n      <td>635.000000</td>\n      <td>0.000000</td>\n      <td>0.000000</td>\n      <td>0.000000</td>\n      <td>0.000000</td>\n      <td>0.000000</td>\n    </tr>\n    <tr>\n      <th>25%</th>\n      <td>4.000000</td>\n      <td>871.000000</td>\n      <td>0.000000</td>\n      <td>0.000000</td>\n      <td>0.000000</td>\n      <td>0.000000</td>\n      <td>0.000000</td>\n    </tr>\n    <tr>\n      <th>50%</th>\n      <td>8.000000</td>\n      <td>918.000000</td>\n      <td>0.000000</td>\n      <td>0.000000</td>\n      <td>0.000000</td>\n      <td>0.000000</td>\n      <td>1.000000</td>\n    </tr>\n    <tr>\n      <th>75%</th>\n      <td>13.000000</td>\n      <td>969.000000</td>\n      <td>1.000000</td>\n      <td>1.000000</td>\n      <td>1.000000</td>\n      <td>0.000000</td>\n      <td>1.000000</td>\n    </tr>\n    <tr>\n      <th>max</th>\n      <td>27.000000</td>\n      <td>1253.000000</td>\n      <td>1.000000</td>\n      <td>1.000000</td>\n      <td>1.000000</td>\n      <td>1.000000</td>\n      <td>1.000000</td>\n    </tr>\n  </tbody>\n</table>\n</div>"
     },
     "metadata": {},
     "execution_count": 7
    }
   ],
   "source": [
    "star.describe()"
   ]
  },
  {
   "source": [
    "#### run a linear regression to understand for the case of small= 0\n",
    "one check for random assignment. regress small on othr independent variables and check if there are any significant coefficients. If assignment is random there shoud be no significant coefficients.\n",
    "Here 'small' is the treatment effect and total_Score is the dependent variable"
   ],
   "cell_type": "markdown",
   "metadata": {}
  },
  {
   "cell_type": "code",
   "execution_count": 8,
   "metadata": {},
   "outputs": [
    {
     "output_type": "stream",
     "name": "stdout",
     "text": [
      "                            OLS Regression Results                            \n==============================================================================\nDep. Variable:                  small   R-squared:                       0.000\nModel:                            OLS   Adj. R-squared:                 -0.001\nMethod:                 Least Squares   F-statistic:                    0.1100\nDate:                Wed, 14 Oct 2020   Prob (F-statistic):              0.990\nTime:                        11:16:11   Log-Likelihood:                -2699.5\nNo. Observations:                3733   AIC:                             5411.\nDf Residuals:                    3727   BIC:                             5448.\nDf Model:                           5                                         \nCovariance Type:            nonrobust                                         \n================================================================================\n                   coef    std err          t      P>|t|      [0.025      0.975]\n--------------------------------------------------------------------------------\nconst            0.4635      0.025     18.404      0.000       0.414       0.513\ntotexpk         -0.0007      0.001     -0.518      0.604      -0.004       0.002\nsex-girl         0.0004      0.016      0.025      0.980      -0.032       0.032\nfreelunk-yes     0.0018      0.018      0.098      0.922      -0.034       0.038\nrace-other       0.0431      0.113      0.381      0.703      -0.179       0.265\nrace-white       0.0092      0.020      0.465      0.642      -0.029       0.048\n==============================================================================\nOmnibus:                    13235.761   Durbin-Watson:                   1.928\nProb(Omnibus):                  0.000   Jarque-Bera (JB):              621.867\nSkew:                           0.143   Prob(JB):                    9.19e-136\nKurtosis:                       1.021   Cond. No.                         149.\n==============================================================================\n\nWarnings:\n[1] Standard Errors assume that the covariance matrix of the errors is correctly specified.\n"
     ]
    }
   ],
   "source": [
    "x_train = star.drop(labels=['small', 'total_score'], axis=1 )\n",
    "y_true = star['small']\n",
    "\n",
    "# ols model with intercept added to predictor\n",
    "ols_sm = sm.OLS(y_true, sm.add_constant(x_train)).fit()\n",
    "\n",
    "# fitted model and summary\n",
    "print(ols_sm.summary())"
   ]
  },
  {
   "cell_type": "code",
   "execution_count": 9,
   "metadata": {},
   "outputs": [
    {
     "output_type": "execute_result",
     "data": {
      "text/plain": [
       "      total_score                                                           \n",
       "            count        mean        std    min    25%    50%    75%     max\n",
       "small                                                                       \n",
       "0          2000.0  917.942000  73.153389  635.0  866.0  912.0  961.0  1229.0\n",
       "1          1733.0  932.050779  76.428360  747.0  878.0  924.0  981.0  1253.0"
      ],
      "text/html": "<div>\n<style scoped>\n    .dataframe tbody tr th:only-of-type {\n        vertical-align: middle;\n    }\n\n    .dataframe tbody tr th {\n        vertical-align: top;\n    }\n\n    .dataframe thead tr th {\n        text-align: left;\n    }\n\n    .dataframe thead tr:last-of-type th {\n        text-align: right;\n    }\n</style>\n<table border=\"1\" class=\"dataframe\">\n  <thead>\n    <tr>\n      <th></th>\n      <th colspan=\"8\" halign=\"left\">total_score</th>\n    </tr>\n    <tr>\n      <th></th>\n      <th>count</th>\n      <th>mean</th>\n      <th>std</th>\n      <th>min</th>\n      <th>25%</th>\n      <th>50%</th>\n      <th>75%</th>\n      <th>max</th>\n    </tr>\n    <tr>\n      <th>small</th>\n      <th></th>\n      <th></th>\n      <th></th>\n      <th></th>\n      <th></th>\n      <th></th>\n      <th></th>\n      <th></th>\n    </tr>\n  </thead>\n  <tbody>\n    <tr>\n      <th>0</th>\n      <td>2000.0</td>\n      <td>917.942000</td>\n      <td>73.153389</td>\n      <td>635.0</td>\n      <td>866.0</td>\n      <td>912.0</td>\n      <td>961.0</td>\n      <td>1229.0</td>\n    </tr>\n    <tr>\n      <th>1</th>\n      <td>1733.0</td>\n      <td>932.050779</td>\n      <td>76.428360</td>\n      <td>747.0</td>\n      <td>878.0</td>\n      <td>924.0</td>\n      <td>981.0</td>\n      <td>1253.0</td>\n    </tr>\n  </tbody>\n</table>\n</div>"
     },
     "metadata": {},
     "execution_count": 9
    }
   ],
   "source": [
    "star[['total_score', 'small']].groupby(\"small\").describe()"
   ]
  },
  {
   "source": [
    "### Run a Linear Regression \n",
    "total_score = b0 + b1 * small + e"
   ],
   "cell_type": "markdown",
   "metadata": {}
  },
  {
   "cell_type": "code",
   "execution_count": 10,
   "metadata": {},
   "outputs": [
    {
     "output_type": "stream",
     "name": "stdout",
     "text": [
      "                            OLS Regression Results                            \n==============================================================================\nDep. Variable:            total_score   R-squared:                       0.009\nModel:                            OLS   Adj. R-squared:                  0.009\nMethod:                 Least Squares   F-statistic:                     33.13\nDate:                Wed, 14 Oct 2020   Prob (F-statistic):           9.32e-09\nTime:                        11:16:11   Log-Likelihood:                -21398.\nNo. Observations:                3733   AIC:                         4.280e+04\nDf Residuals:                    3731   BIC:                         4.281e+04\nDf Model:                           1                                         \nCovariance Type:            nonrobust                                         \n==============================================================================\n                 coef    std err          t      P>|t|      [0.025      0.975]\n------------------------------------------------------------------------------\nconst        917.9420      1.670    549.615      0.000     914.667     921.217\nsmall         14.1088      2.451      5.756      0.000       9.303      18.915\n==============================================================================\nOmnibus:                      175.147   Durbin-Watson:                   1.980\nProb(Omnibus):                  0.000   Jarque-Bera (JB):              203.606\nSkew:                           0.526   Prob(JB):                     6.13e-45\nKurtosis:                       3.450   Cond. No.                         2.54\n==============================================================================\n\nWarnings:\n[1] Standard Errors assume that the covariance matrix of the errors is correctly specified.\n"
     ]
    }
   ],
   "source": [
    "x_train = star['small']\n",
    "y_true = star['total_score']\n",
    "\n",
    "# ols model with intercept added to predictor\n",
    "ols_sm = sm.OLS(y_true, sm.add_constant(x_train)).fit()\n",
    "\n",
    "# fitted model and summary\n",
    "print(ols_sm.summary())"
   ]
  },
  {
   "source": [
    "***from above linear regression***\n",
    "\n",
    "***average for regular-size class = 917.94, same as what we founf with describe method***\n",
    "\n",
    "***average for small-size class = 917 + 14***\n",
    "\n",
    "***difference estimator = b1 = 14.1088***"
   ],
   "cell_type": "markdown",
   "metadata": {}
  },
  {
   "source": [
    "### Add teacher experience to the model\n",
    "total_score = b0 + b1 * small + b2 * teacher experience"
   ],
   "cell_type": "markdown",
   "metadata": {}
  },
  {
   "cell_type": "code",
   "execution_count": 11,
   "metadata": {},
   "outputs": [
    {
     "output_type": "stream",
     "name": "stdout",
     "text": [
      "                            OLS Regression Results                            \n==============================================================================\nDep. Variable:            total_score   R-squared:                       0.017\nModel:                            OLS   Adj. R-squared:                  0.016\nMethod:                 Least Squares   F-statistic:                     31.52\nDate:                Wed, 14 Oct 2020   Prob (F-statistic):           2.68e-14\nTime:                        11:16:12   Log-Likelihood:                -21383.\nNo. Observations:                3733   AIC:                         4.277e+04\nDf Residuals:                    3730   BIC:                         4.279e+04\nDf Model:                           2                                         \nCovariance Type:            nonrobust                                         \n==============================================================================\n                 coef    std err          t      P>|t|      [0.025      0.975]\n------------------------------------------------------------------------------\nconst        907.4293      2.549    356.034      0.000     902.432     912.426\nsmall         14.2098      2.442      5.819      0.000       9.422      18.997\ntotexpk        1.1580      0.213      5.445      0.000       0.741       1.575\n==============================================================================\nOmnibus:                      176.246   Durbin-Watson:                   1.985\nProb(Omnibus):                  0.000   Jarque-Bera (JB):              204.418\nSkew:                           0.530   Prob(JB):                     4.08e-45\nKurtosis:                       3.435   Cond. No.                         26.5\n==============================================================================\n\nWarnings:\n[1] Standard Errors assume that the covariance matrix of the errors is correctly specified.\n"
     ]
    }
   ],
   "source": [
    "x_train = star[['small', 'totexpk']]\n",
    "y_true = star['total_score']\n",
    "\n",
    "# ols model with intercept added to predictor\n",
    "ols_sm = sm.OLS(y_true, sm.add_constant(x_train)).fit()\n",
    "\n",
    "# fitted model and summary\n",
    "print(ols_sm.summary())"
   ]
  },
  {
   "source": [
    "***each additional experience year improves score by 1.15***"
   ],
   "cell_type": "markdown",
   "metadata": {}
  },
  {
   "source": [
    "### Use all school variables for regression"
   ],
   "cell_type": "markdown",
   "metadata": {}
  },
  {
   "cell_type": "code",
   "execution_count": 12,
   "metadata": {},
   "outputs": [
    {
     "output_type": "stream",
     "name": "stdout",
     "text": [
      "                            OLS Regression Results                            \n==============================================================================\nDep. Variable:            total_score   R-squared:                       0.096\nModel:                            OLS   Adj. R-squared:                  0.095\nMethod:                 Least Squares   F-statistic:                     66.19\nDate:                Wed, 14 Oct 2020   Prob (F-statistic):           1.87e-78\nTime:                        11:18:10   Log-Likelihood:                -21225.\nNo. Observations:                3733   AIC:                         4.246e+04\nDf Residuals:                    3726   BIC:                         4.251e+04\nDf Model:                           6                                         \nCovariance Type:            nonrobust                                         \n================================================================================\n                   coef    std err          t      P>|t|      [0.025      0.975]\n--------------------------------------------------------------------------------\nconst          912.6822      3.761    242.661      0.000     905.308     920.056\nsmall           14.0706      2.342      6.007      0.000       9.478      18.663\ntotexpk          0.7034      0.206      3.413      0.001       0.299       1.108\nsex-girl        15.3032      2.340      6.540      0.000      10.716      19.891\nfreelunk-yes   -34.1253      2.608    -13.084      0.000     -39.239     -29.012\nrace-other     -10.0466     16.171     -0.621      0.534     -41.752      21.659\nrace-white      11.3433      2.816      4.027      0.000       5.821      16.865\n==============================================================================\nOmnibus:                      195.465   Durbin-Watson:                   1.986\nProb(Omnibus):                  0.000   Jarque-Bera (JB):              231.519\nSkew:                           0.557   Prob(JB):                     5.32e-51\nKurtosis:                       3.498   Cond. No.                         149.\n==============================================================================\n\nWarnings:\n[1] Standard Errors assume that the covariance matrix of the errors is correctly specified.\n"
     ]
    }
   ],
   "source": [
    "x_train = star[['small', 'totexpk', 'sex-girl', 'freelunk-yes', 'race-other',\t'race-white']]\n",
    "y_true = star['total_score']\n",
    "\n",
    "# ols model with intercept added to predictor\n",
    "ols_sm = sm.OLS(y_true, sm.add_constant(x_train)).fit()\n",
    "\n",
    "# fitted model and summary\n",
    "print(ols_sm.summary())"
   ]
  },
  {
   "cell_type": "code",
   "execution_count": null,
   "metadata": {},
   "outputs": [],
   "source": []
  }
 ]
}